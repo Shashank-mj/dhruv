{
  "nbformat": 4,
  "nbformat_minor": 0,
  "metadata": {
    "colab": {
      "provenance": [],
      "authorship_tag": "ABX9TyPxp9fm175ooDoja+lrHsnf",
      "include_colab_link": true
    },
    "kernelspec": {
      "name": "python3",
      "display_name": "Python 3"
    },
    "language_info": {
      "name": "python"
    }
  },
  "cells": [
    {
      "cell_type": "markdown",
      "metadata": {
        "id": "view-in-github",
        "colab_type": "text"
      },
      "source": [
        "<a href=\"https://colab.research.google.com/github/Shashank-mj/dhruv/blob/main/Untitled4.ipynb\" target=\"_parent\"><img src=\"https://colab.research.google.com/assets/colab-badge.svg\" alt=\"Open In Colab\"/></a>"
      ]
    },
    {
      "cell_type": "code",
      "execution_count": 2,
      "metadata": {
        "colab": {
          "base_uri": "https://localhost:8080/"
        },
        "id": "sWLfMBU5fua7",
        "outputId": "12e66608-51ca-4b36-b091-30e0059a779f"
      },
      "outputs": [
        {
          "output_type": "stream",
          "name": "stdout",
          "text": [
            "Extracted files:\n",
            "car data.csv\n",
            "  Car_Name  Year  Selling_Price  Present_Price  Driven_kms Fuel_Type  \\\n",
            "0     ritz  2014           3.35           5.59       27000    Petrol   \n",
            "1      sx4  2013           4.75           9.54       43000    Diesel   \n",
            "2     ciaz  2017           7.25           9.85        6900    Petrol   \n",
            "3  wagon r  2011           2.85           4.15        5200    Petrol   \n",
            "4    swift  2014           4.60           6.87       42450    Diesel   \n",
            "\n",
            "  Selling_type Transmission  Owner  \n",
            "0       Dealer       Manual      0  \n",
            "1       Dealer       Manual      0  \n",
            "2       Dealer       Manual      0  \n",
            "3       Dealer       Manual      0  \n",
            "4       Dealer       Manual      0  \n"
          ]
        }
      ],
      "source": [
        "import zipfile\n",
        "import os\n",
        "import pandas as pd\n",
        "\n",
        "# Path to your downloaded ZIP file\n",
        "zip_path = 'archive (4).zip'  # Make sure it's in the same directory as your script\n",
        "extract_folder = 'unzipped_files'\n",
        "\n",
        "# Step 1: Unzip the file\n",
        "os.makedirs(extract_folder, exist_ok=True)\n",
        "with zipfile.ZipFile(zip_path, 'r') as zip_ref:\n",
        "    zip_ref.extractall(extract_folder)\n",
        "\n",
        "# Step 2: List all extracted files\n",
        "print(\"Extracted files:\")\n",
        "for filename in os.listdir(extract_folder):\n",
        "    print(filename)\n",
        "\n",
        "# Step 3: Read CSV (update filename as needed)\n",
        "csv_path = os.path.join(extract_folder, 'car data.csv')  # Replace with actual CSV name\n",
        "df = pd.read_csv(csv_path)\n",
        "print(df.head())  # Display first few rows\n"
      ]
    },
    {
      "cell_type": "code",
      "source": [
        "import zipfile\n",
        "import os\n",
        "import pandas as pd\n",
        "\n",
        "# === Step 1: Set the paths ===\n",
        "zip_file = 'archive (4).zip'       # Make sure this file is in your working directory\n",
        "extract_folder = 'unzipped_data'   # Folder to extract to\n",
        "\n",
        "# === Step 2: Unzip the file ===\n",
        "os.makedirs(extract_folder, exist_ok=True)  # Create folder if it doesn't exist\n",
        "\n",
        "with zipfile.ZipFile(zip_file, 'r') as zip_ref:\n",
        "    zip_ref.extractall(extract_folder)\n",
        "\n",
        "print(f\"✅ Files extracted to: {extract_folder}\")\n",
        "\n",
        "# === Step 3: Find and read the CSV file ===\n",
        "csv_file = None\n",
        "for file in os.listdir(extract_folder):\n",
        "    if file.endswith('.csv'):\n",
        "        csv_file = os.path.join(extract_folder, file)\n",
        "        break\n",
        "\n",
        "# === Step 4: Load CSV file with Pandas ===\n",
        "if csv_file:\n",
        "    df = pd.read_csv(csv_file)\n",
        "    print(\"✅ CSV File Loaded Successfully!\")\n",
        "    print(df.head())  # Display first 5 rows\n",
        "else:\n",
        "    print(\"❌ No CSV file found in the zip archive.\")\n"
      ],
      "metadata": {
        "colab": {
          "base_uri": "https://localhost:8080/"
        },
        "id": "p9cvtlEbfx-N",
        "outputId": "368ac09d-0390-4129-a004-e570f3bd8a51"
      },
      "execution_count": 4,
      "outputs": [
        {
          "output_type": "stream",
          "name": "stdout",
          "text": [
            "✅ Files extracted to: unzipped_data\n",
            "✅ CSV File Loaded Successfully!\n",
            "  Car_Name  Year  Selling_Price  Present_Price  Driven_kms Fuel_Type  \\\n",
            "0     ritz  2014           3.35           5.59       27000    Petrol   \n",
            "1      sx4  2013           4.75           9.54       43000    Diesel   \n",
            "2     ciaz  2017           7.25           9.85        6900    Petrol   \n",
            "3  wagon r  2011           2.85           4.15        5200    Petrol   \n",
            "4    swift  2014           4.60           6.87       42450    Diesel   \n",
            "\n",
            "  Selling_type Transmission  Owner  \n",
            "0       Dealer       Manual      0  \n",
            "1       Dealer       Manual      0  \n",
            "2       Dealer       Manual      0  \n",
            "3       Dealer       Manual      0  \n",
            "4       Dealer       Manual      0  \n"
          ]
        }
      ]
    },
    {
      "cell_type": "code",
      "source": [],
      "metadata": {
        "id": "djof4We_gmtw"
      },
      "execution_count": null,
      "outputs": []
    }
  ]
}